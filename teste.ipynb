{
 "cells": [
  {
   "cell_type": "code",
   "execution_count": 5,
   "metadata": {},
   "outputs": [
    {
     "name": "stdout",
     "output_type": "stream",
     "text": [
      "42\n"
     ]
    }
   ],
   "source": [
    "value = 40 + 2\n",
    "print(value)"
   ]
  },
  {
   "cell_type": "markdown",
   "metadata": {},
   "source": [
    "### formatação de string\n",
    "\n",
    "%s - String (ou qualquer objeto com uma representação de seqüência de caracteres, como números)\n",
    "\n",
    "%d - Inteiros\n",
    "\n",
    "%f - Números de ponto flutuante\n",
    "\n",
    "%.<número de dígitos>f - Números de pontos flutuantes com uma quantidade fixa de dígitos à direita do ponto.\n",
    "\n",
    "%x/%X - Inteiros na representação hexadecimal (minúsculas / maiúsculas)"
   ]
  },
  {
   "cell_type": "code",
   "execution_count": 6,
   "metadata": {},
   "outputs": [
    {
     "name": "stdout",
     "output_type": "stream",
     "text": [
      "python é 42\n"
     ]
    }
   ],
   "source": [
    "print(\"python é %s\" % (value))"
   ]
  }
 ],
 "metadata": {
  "kernelspec": {
   "display_name": "Python 3",
   "language": "python",
   "name": "python3"
  },
  "language_info": {
   "codemirror_mode": {
    "name": "ipython",
    "version": 3
   },
   "file_extension": ".py",
   "mimetype": "text/x-python",
   "name": "python",
   "nbconvert_exporter": "python",
   "pygments_lexer": "ipython3",
   "version": "3.12.3"
  }
 },
 "nbformat": 4,
 "nbformat_minor": 2
}
